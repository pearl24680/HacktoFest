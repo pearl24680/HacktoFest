{
 "cells": [
  {
   "cell_type": "code",
   "execution_count": 1,
   "id": "76364244",
   "metadata": {},
   "outputs": [
    {
     "name": "stdout",
     "output_type": "stream",
     "text": [
      "Enter The 1st Key Name :Stud_Name\n",
      "\n",
      "Enter The Values :Derek Ria Marcus Mark Jenny\n",
      "\n",
      "Enter The 2nd Key Name :Stud_Address\n",
      "\n",
      "Enter The Values :Jaipur Texas Dublin Napier Dublin\n",
      "Enter The 3rd Key Name :Domain\n",
      "\n",
      "Enter The Values :EE ME CS IT ESE\n",
      "Enter The 4th Key Name :Gender\n",
      "\n",
      "Enter The Values :M F M M F\n",
      "Enter The 5th Key Name :Contact\n",
      "\n",
      "Enter The Values :909087875 809087875 779087875 659087875 929087875\n",
      "{'Stud_Name': ['Derek', 'Ria', 'Marcus', 'Mark', 'Jenny'], 'Stud_Address': ['Jaipur', 'Texas', 'Dublin', 'Napier', 'Dublin'], 'Domain': ['EE', 'ME', 'CS', 'IT', 'ESE'], 'Gender': ['M', 'F', 'M', 'M', 'F'], 'Contact': ['909087875', '809087875', '779087875', '659087875', '929087875']}\n"
     ]
    }
   ],
   "source": [
    "stud_data = {input(\"Enter The 1st Key Name :\"):input(\"\\nEnter The Values :\").split(),\n",
    "            input(\"\\nEnter The 2nd Key Name :\"):input(\"\\nEnter The Values :\").split(),\n",
    "            input(\"Enter The 3rd Key Name :\"):input(\"\\nEnter The Values :\").split(),\n",
    "            input(\"Enter The 4th Key Name :\"):input(\"\\nEnter The Values :\").split(),\n",
    "            input(\"Enter The 5th Key Name :\"):input(\"\\nEnter The Values :\").split(),}\n",
    "\n",
    "print(stud_data)"
   ]
  },
  {
   "cell_type": "code",
   "execution_count": 2,
   "id": "60bd8216",
   "metadata": {},
   "outputs": [],
   "source": [
    "## How To Make DataFrame Using Dictionay"
   ]
  },
  {
   "cell_type": "code",
   "execution_count": 3,
   "id": "e5902821",
   "metadata": {},
   "outputs": [],
   "source": [
    "## USE : Pandas"
   ]
  },
  {
   "cell_type": "code",
   "execution_count": 4,
   "id": "14866b70",
   "metadata": {},
   "outputs": [],
   "source": [
    "## Step 1 :  import pandas"
   ]
  },
  {
   "cell_type": "code",
   "execution_count": 5,
   "id": "8d2c6065",
   "metadata": {},
   "outputs": [
    {
     "data": {
      "text/html": [
       "<div>\n",
       "<style scoped>\n",
       "    .dataframe tbody tr th:only-of-type {\n",
       "        vertical-align: middle;\n",
       "    }\n",
       "\n",
       "    .dataframe tbody tr th {\n",
       "        vertical-align: top;\n",
       "    }\n",
       "\n",
       "    .dataframe thead th {\n",
       "        text-align: right;\n",
       "    }\n",
       "</style>\n",
       "<table border=\"1\" class=\"dataframe\">\n",
       "  <thead>\n",
       "    <tr style=\"text-align: right;\">\n",
       "      <th></th>\n",
       "      <th>Stud_Name</th>\n",
       "      <th>Stud_Address</th>\n",
       "      <th>Domain</th>\n",
       "      <th>Gender</th>\n",
       "      <th>Contact</th>\n",
       "    </tr>\n",
       "  </thead>\n",
       "  <tbody>\n",
       "    <tr>\n",
       "      <th>0</th>\n",
       "      <td>Derek</td>\n",
       "      <td>Jaipur</td>\n",
       "      <td>EE</td>\n",
       "      <td>M</td>\n",
       "      <td>909087875</td>\n",
       "    </tr>\n",
       "    <tr>\n",
       "      <th>1</th>\n",
       "      <td>Ria</td>\n",
       "      <td>Texas</td>\n",
       "      <td>ME</td>\n",
       "      <td>F</td>\n",
       "      <td>809087875</td>\n",
       "    </tr>\n",
       "    <tr>\n",
       "      <th>2</th>\n",
       "      <td>Marcus</td>\n",
       "      <td>Dublin</td>\n",
       "      <td>CS</td>\n",
       "      <td>M</td>\n",
       "      <td>779087875</td>\n",
       "    </tr>\n",
       "    <tr>\n",
       "      <th>3</th>\n",
       "      <td>Mark</td>\n",
       "      <td>Napier</td>\n",
       "      <td>IT</td>\n",
       "      <td>M</td>\n",
       "      <td>659087875</td>\n",
       "    </tr>\n",
       "    <tr>\n",
       "      <th>4</th>\n",
       "      <td>Jenny</td>\n",
       "      <td>Dublin</td>\n",
       "      <td>ESE</td>\n",
       "      <td>F</td>\n",
       "      <td>929087875</td>\n",
       "    </tr>\n",
       "  </tbody>\n",
       "</table>\n",
       "</div>"
      ],
      "text/plain": [
       "  Stud_Name Stud_Address Domain Gender    Contact\n",
       "0     Derek       Jaipur     EE      M  909087875\n",
       "1       Ria        Texas     ME      F  809087875\n",
       "2    Marcus       Dublin     CS      M  779087875\n",
       "3      Mark       Napier     IT      M  659087875\n",
       "4     Jenny       Dublin    ESE      F  929087875"
      ]
     },
     "execution_count": 5,
     "metadata": {},
     "output_type": "execute_result"
    }
   ],
   "source": [
    "import pandas as pd\n",
    "\n",
    "# Create A DataFrame : use ==> pd.DataFrame(dict_name)\n",
    "\n",
    "df = pd.DataFrame(stud_data)\n",
    "\n",
    "df"
   ]
  },
  {
   "cell_type": "code",
   "execution_count": 7,
   "id": "ebf2ca10",
   "metadata": {},
   "outputs": [
    {
     "data": {
      "text/plain": [
       "0     Derek\n",
       "1       Ria\n",
       "2    Marcus\n",
       "3      Mark\n",
       "4     Jenny\n",
       "Name: Stud_Name, dtype: object"
      ]
     },
     "execution_count": 7,
     "metadata": {},
     "output_type": "execute_result"
    }
   ],
   "source": [
    "df[\"Stud_Name\"]"
   ]
  },
  {
   "cell_type": "code",
   "execution_count": 8,
   "id": "4654f906",
   "metadata": {},
   "outputs": [
    {
     "name": "stdout",
     "output_type": "stream",
     "text": [
      "Enter The Update Name :Kaira\n",
      "\n",
      "Enter The Value :F\n"
     ]
    },
    {
     "data": {
      "text/html": [
       "<div>\n",
       "<style scoped>\n",
       "    .dataframe tbody tr th:only-of-type {\n",
       "        vertical-align: middle;\n",
       "    }\n",
       "\n",
       "    .dataframe tbody tr th {\n",
       "        vertical-align: top;\n",
       "    }\n",
       "\n",
       "    .dataframe thead th {\n",
       "        text-align: right;\n",
       "    }\n",
       "</style>\n",
       "<table border=\"1\" class=\"dataframe\">\n",
       "  <thead>\n",
       "    <tr style=\"text-align: right;\">\n",
       "      <th></th>\n",
       "      <th>Stud_Name</th>\n",
       "      <th>Stud_Address</th>\n",
       "      <th>Domain</th>\n",
       "      <th>Gender</th>\n",
       "      <th>Contact</th>\n",
       "    </tr>\n",
       "  </thead>\n",
       "  <tbody>\n",
       "    <tr>\n",
       "      <th>0</th>\n",
       "      <td>Derek</td>\n",
       "      <td>Jaipur</td>\n",
       "      <td>EE</td>\n",
       "      <td>M</td>\n",
       "      <td>909087875</td>\n",
       "    </tr>\n",
       "    <tr>\n",
       "      <th>1</th>\n",
       "      <td>Ria</td>\n",
       "      <td>Texas</td>\n",
       "      <td>ME</td>\n",
       "      <td>F</td>\n",
       "      <td>809087875</td>\n",
       "    </tr>\n",
       "    <tr>\n",
       "      <th>2</th>\n",
       "      <td>Marcus</td>\n",
       "      <td>Dublin</td>\n",
       "      <td>CS</td>\n",
       "      <td>M</td>\n",
       "      <td>779087875</td>\n",
       "    </tr>\n",
       "    <tr>\n",
       "      <th>3</th>\n",
       "      <td>Kaira</td>\n",
       "      <td>Napier</td>\n",
       "      <td>IT</td>\n",
       "      <td>F</td>\n",
       "      <td>659087875</td>\n",
       "    </tr>\n",
       "    <tr>\n",
       "      <th>4</th>\n",
       "      <td>Jenny</td>\n",
       "      <td>Dublin</td>\n",
       "      <td>ESE</td>\n",
       "      <td>F</td>\n",
       "      <td>929087875</td>\n",
       "    </tr>\n",
       "  </tbody>\n",
       "</table>\n",
       "</div>"
      ],
      "text/plain": [
       "  Stud_Name Stud_Address Domain Gender    Contact\n",
       "0     Derek       Jaipur     EE      M  909087875\n",
       "1       Ria        Texas     ME      F  809087875\n",
       "2    Marcus       Dublin     CS      M  779087875\n",
       "3     Kaira       Napier     IT      F  659087875\n",
       "4     Jenny       Dublin    ESE      F  929087875"
      ]
     },
     "execution_count": 8,
     "metadata": {},
     "output_type": "execute_result"
    }
   ],
   "source": [
    "df[\"Stud_Name\"][3] = input(\"Enter The Update Name :\")\n",
    "df[\"Gender\"][3] = input(\"\\nEnter The Value :\")\n",
    "df"
   ]
  },
  {
   "cell_type": "code",
   "execution_count": 9,
   "id": "360e41ce",
   "metadata": {},
   "outputs": [
    {
     "name": "stdout",
     "output_type": "stream",
     "text": [
      "Collecting datatable\n",
      "  Downloading datatable-1.0.0-cp39-cp39-win_amd64.whl (4.0 MB)\n",
      "Installing collected packages: datatable\n",
      "Successfully installed datatable-1.0.0\n",
      "Note: you may need to restart the kernel to use updated packages.\n"
     ]
    }
   ],
   "source": [
    "pip install datatable"
   ]
  },
  {
   "cell_type": "code",
   "execution_count": 10,
   "id": "2460833c",
   "metadata": {},
   "outputs": [
    {
     "data": {
      "text/html": [
       "<style type='text/css'>\n",
       ".datatable table.frame { margin-bottom: 0; }\n",
       ".datatable table.frame thead { border-bottom: none; }\n",
       ".datatable table.frame tr.coltypes td {  color: #FFFFFF;  line-height: 6px;  padding: 0 0.5em;}\n",
       ".datatable .bool    { background: #DDDD99; }\n",
       ".datatable .object  { background: #565656; }\n",
       ".datatable .int     { background: #5D9E5D; }\n",
       ".datatable .float   { background: #4040CC; }\n",
       ".datatable .str     { background: #CC4040; }\n",
       ".datatable .time    { background: #40CC40; }\n",
       ".datatable .row_index {  background: var(--jp-border-color3);  border-right: 1px solid var(--jp-border-color0);  color: var(--jp-ui-font-color3);  font-size: 9px;}\n",
       ".datatable .frame tbody td { text-align: left; }\n",
       ".datatable .frame tr.coltypes .row_index {  background: var(--jp-border-color0);}\n",
       ".datatable th:nth-child(2) { padding-left: 12px; }\n",
       ".datatable .hellipsis {  color: var(--jp-cell-editor-border-color);}\n",
       ".datatable .vellipsis {  background: var(--jp-layout-color0);  color: var(--jp-cell-editor-border-color);}\n",
       ".datatable .na {  color: var(--jp-cell-editor-border-color);  font-size: 80%;}\n",
       ".datatable .sp {  opacity: 0.25;}\n",
       ".datatable .footer { font-size: 9px; }\n",
       ".datatable .frame_dimensions {  background: var(--jp-border-color3);  border-top: 1px solid var(--jp-border-color0);  color: var(--jp-ui-font-color3);  display: inline-block;  opacity: 0.6;  padding: 1px 10px 1px 5px;}\n",
       "</style>\n"
      ],
      "text/plain": [
       "<IPython.core.display.HTML object>"
      ]
     },
     "metadata": {},
     "output_type": "display_data"
    }
   ],
   "source": [
    "import datatable as dt"
   ]
  },
  {
   "cell_type": "code",
   "execution_count": 11,
   "id": "52b52903",
   "metadata": {},
   "outputs": [
    {
     "data": {
      "text/html": [
       "<div class='datatable'>\n",
       "  <table class='frame'>\n",
       "  <thead>\n",
       "    <tr class='colnames'><td class='row_index'></td><th>Stud_Name</th><th>Stud_Address</th><th>Domain</th><th>Gender</th><th>Contact</th></tr>\n",
       "    <tr class='coltypes'><td class='row_index'></td><td class='str' title='str32'>&#x25AA;&#x25AA;&#x25AA;&#x25AA;</td><td class='str' title='str32'>&#x25AA;&#x25AA;&#x25AA;&#x25AA;</td><td class='str' title='str32'>&#x25AA;&#x25AA;&#x25AA;&#x25AA;</td><td class='str' title='str32'>&#x25AA;&#x25AA;&#x25AA;&#x25AA;</td><td class='str' title='str32'>&#x25AA;&#x25AA;&#x25AA;&#x25AA;</td></tr>\n",
       "  </thead>\n",
       "  <tbody>\n",
       "    <tr><td class='row_index'>0</td><td>Derek</td><td>Jaipur</td><td>EE</td><td>M</td><td>909087875</td></tr>\n",
       "    <tr><td class='row_index'>1</td><td>Ria</td><td>Texas</td><td>ME</td><td>F</td><td>809087875</td></tr>\n",
       "    <tr><td class='row_index'>2</td><td>Marcus</td><td>Dublin</td><td>CS</td><td>M</td><td>779087875</td></tr>\n",
       "    <tr><td class='row_index'>3</td><td>Mark</td><td>Napier</td><td>IT</td><td>M</td><td>659087875</td></tr>\n",
       "    <tr><td class='row_index'>4</td><td>Jenny</td><td>Dublin</td><td>ESE</td><td>F</td><td>929087875</td></tr>\n",
       "  </tbody>\n",
       "  </table>\n",
       "  <div class='footer'>\n",
       "    <div class='frame_dimensions'>5 rows &times; 5 columns</div>\n",
       "  </div>\n",
       "</div>\n"
      ],
      "text/plain": [
       "<Frame#15a2ceb5570 5x5>"
      ]
     },
     "execution_count": 11,
     "metadata": {},
     "output_type": "execute_result"
    }
   ],
   "source": [
    "frame1 = dt.Frame(stud_data)\n",
    "\n",
    "frame1"
   ]
  },
  {
   "cell_type": "code",
   "execution_count": null,
   "id": "8beb606a",
   "metadata": {},
   "outputs": [],
   "source": []
  }
 ],
 "metadata": {
  "kernelspec": {
   "display_name": "Python 3 (ipykernel)",
   "language": "python",
   "name": "python3"
  },
  "language_info": {
   "codemirror_mode": {
    "name": "ipython",
    "version": 3
   },
   "file_extension": ".py",
   "mimetype": "text/x-python",
   "name": "python",
   "nbconvert_exporter": "python",
   "pygments_lexer": "ipython3",
   "version": "3.9.12"
  }
 },
 "nbformat": 4,
 "nbformat_minor": 5
}
